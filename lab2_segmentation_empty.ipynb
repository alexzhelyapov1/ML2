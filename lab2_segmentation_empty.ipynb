{
  "cells": [
    {
      "cell_type": "markdown",
      "metadata": {
        "id": "oxoefJKSbYpd"
      },
      "source": [
        "# Lab 02: Segmentation\n",
        "\n",
        "In this laboratory work you will create pipeline for cancer cells segmentation starting from reading data to preprocessing, creating training setup, experimenting with models.\n",
        "\n",
        "## Part 1: Reading dataset\n",
        "\n",
        "Write Dataset class inheriting regular `torch` dataset.\n",
        "\n",
        "In this task we use small datset just to make this homework accessible for everyone, so please **do not** read all the data in constructor because it is not how it works for real life datasets. You need to read image from disk only when it is requesed (getitem).\n",
        "\n",
        "Split data (persistently between runs) to train, val and test sets. Add corresponding parameter to dataset constructor."
      ]
    },
    {
      "cell_type": "code",
      "execution_count": null,
      "metadata": {
        "id": "vjimnlWTWxdz"
      },
      "outputs": [],
      "source": [
        "!curl -JLO 'https://www.dropbox.com/scl/fi/gs3kzp6b8k6faf667m5tt/breast-cancer-cells-segmentation.zip?rlkey=md3mzikpwrvnaluxnhms7r4zn'\n",
        "!unzip breast-cancer-cells-segmentation.zip"
      ]
    },
    {
      "cell_type": "code",
      "execution_count": null,
      "metadata": {
        "id": "buchW2rlaki0"
      },
      "outputs": [],
      "source": [
        "# your code here"
      ]
    },
    {
      "cell_type": "markdown",
      "metadata": {
        "id": "mKqIkNChL8gR"
      },
      "source": [
        "## Part 1.1: Analyzing dataset\n",
        "\n",
        "Each time you build model you first should make EDA to understand your data.\n",
        "\n",
        "You should answer to the following questions:\n",
        "- how many classes do you have?\n",
        "- what is class balance?\n",
        "- how many cells (roughly) do you have in train data?\n",
        "\n",
        "Advanced part: think of questions which could help you in your future models building and then answer them below."
      ]
    },
    {
      "cell_type": "code",
      "execution_count": null,
      "metadata": {
        "id": "rQE0KaIWLxAe"
      },
      "outputs": [],
      "source": [
        "# your code here"
      ]
    },
    {
      "cell_type": "markdown",
      "metadata": {
        "id": "sfPKXv96hF0c"
      },
      "source": [
        "## Part 2: Unet model\n",
        "\n",
        "Implement class of Unet model according with [the original paper](https://arxiv.org/pdf/1505.04597).\n",
        "Ajust size of the network according with your input data."
      ]
    },
    {
      "cell_type": "code",
      "execution_count": null,
      "metadata": {
        "id": "v5Oa-cAFheT2"
      },
      "outputs": [],
      "source": [
        "# your code here"
      ]
    },
    {
      "cell_type": "markdown",
      "metadata": {
        "id": "3mgqMjFnhwZm"
      },
      "source": [
        "## Part 3: Unet training with different losses\n",
        "\n",
        "Train model in three setups:\n",
        "- Crossentropy loss\n",
        "- Dice loss\n",
        "- Composition of CE and Dice\n",
        "\n",
        "Advanced:\\\n",
        "For training procedure use one of frameworks for models training - Lightning, (Hugging Face, Catalyst, Ignite).\\\n",
        "_Hint: this will make your life easier!_\n",
        "\n",
        "Save all three trained models to disk!\n",
        "\n",
        "Use validation set to evaluate models."
      ]
    },
    {
      "cell_type": "code",
      "execution_count": null,
      "metadata": {
        "id": "2-6ONFwVi3n5"
      },
      "outputs": [],
      "source": [
        "# your code here"
      ]
    },
    {
      "cell_type": "markdown",
      "metadata": {
        "id": "BQYw6g-xi5Jb"
      },
      "source": [
        "## Part 3.1: Losses conclusion\n",
        "\n",
        "Analyse results of the three models above using metrics, losses and visualizations you know (all three parts are required).\n",
        "\n",
        "Make motivated conclusion on which setup is better. Provide your arguments.\n",
        "\n",
        "Calculate loss and metrics of the best model on test set."
      ]
    },
    {
      "cell_type": "code",
      "execution_count": null,
      "metadata": {
        "id": "8s8q4objkQ7S"
      },
      "outputs": [],
      "source": [
        "# your code here"
      ]
    },
    {
      "cell_type": "markdown",
      "metadata": {
        "id": "lv8Fr7xzkTH2"
      },
      "source": [
        "## Part 4: Augmentations and advanced model\n",
        "\n",
        "Choose set of augmentations relevant for this case (at least 5 of them) using [Albumentations library](https://albumentations.ai/).\n",
        "Apply them to dataset (of course dynamicaly during reading from disk).\n",
        "\n",
        "One more thing to improve is model: use [PSPnet](https://arxiv.org/pdf/1612.01105v2) (either use library [implementation](https://smp.readthedocs.io/en/latest/models.html#pspnet) or implement yourself) as improved version of Unet.\n",
        "\n",
        "Alternatively you may use model of your choice (it should be more advanced than Unet ofc).\n",
        "\n",
        "Train Unet and second model on augmented data."
      ]
    },
    {
      "cell_type": "code",
      "execution_count": null,
      "metadata": {
        "id": "3sZ45Y3qmVtH"
      },
      "outputs": [],
      "source": [
        "# your code here"
      ]
    },
    {
      "cell_type": "markdown",
      "metadata": {
        "id": "O11pAJ6bmXZ5"
      },
      "source": [
        "## Part 4.2: Augmentations and advanced model conclusion\n",
        "\n",
        "Compare three setups:\n",
        "- Unet without augmentations (with best loss)\n",
        "- Unet with augmentations\n",
        "- Advanced model with augmentations\n",
        "\n",
        "_Hint: with augs and more complex model you may want to have more iterations._\n",
        "\n",
        "Save all three trained models to disk!\n",
        "\n",
        "Once again provide comprehensive arguments and your insights.\n",
        "\n",
        "Wich setup is better?\n",
        "\n",
        "Compute losses and metrics on test set. Measure improvement over first test evaluation."
      ]
    },
    {
      "cell_type": "code",
      "execution_count": null,
      "metadata": {
        "id": "20lpTa8vnwvd"
      },
      "outputs": [],
      "source": [
        "# your code is here"
      ]
    }
  ],
  "metadata": {
    "colab": {
      "provenance": []
    },
    "kernelspec": {
      "display_name": "Python 3",
      "name": "python3"
    },
    "language_info": {
      "codemirror_mode": {
        "name": "ipython",
        "version": 3
      },
      "file_extension": ".py",
      "mimetype": "text/x-python",
      "name": "python",
      "nbconvert_exporter": "python",
      "pygments_lexer": "ipython3",
      "version": "3.10.12"
    }
  },
  "nbformat": 4,
  "nbformat_minor": 0
}
